{
  "nbformat": 4,
  "nbformat_minor": 0,
  "metadata": {
    "colab": {
      "name": "We Live In a Society.ipynb",
      "provenance": [],
      "collapsed_sections": [],
      "include_colab_link": true
    },
    "kernelspec": {
      "name": "python3",
      "display_name": "Python 3"
    }
  },
  "cells": [
    {
      "cell_type": "markdown",
      "metadata": {
        "id": "view-in-github",
        "colab_type": "text"
      },
      "source": [
        "<a href=\"https://colab.research.google.com/github/cbroms/a-society/blob/master/We_Live_In_a_Society.ipynb\" target=\"_parent\"><img src=\"https://colab.research.google.com/assets/colab-badge.svg\" alt=\"Open In Colab\"/></a>"
      ]
    },
    {
      "cell_type": "markdown",
      "metadata": {
        "id": "aDMeaLhENlHW",
        "colab_type": "text"
      },
      "source": [
        "We have a world of citizens that can form societies.  Each citizen has a certain well-defined amount of **skill** which is initialized to be random and\n",
        "which can change.\n",
        "\n",
        "Citizens can either join an existing society or form a new one.  Each citizen has a certain amount of **desire for social connectivity**, also intialized to be random.  If a citizen has a greater **desire for social connectivity** they will evaluate which society they want to be a part of more. If a citizen's resources are below a minimum level, then their desire for social connectivity increases, making it easier for them to move around. \n",
        "\n",
        " Citizens can choose societies based on how much **skill** the society has: this is the sum of the **skill** of its existing citizens.  If a society has more **skill**, they are able to produce essential resources more efficiently (for now there is only one).  Furthermore, a citizen can grow their own **skill** more quickly in a society with more **skill**. However, in a society with more **skill**, there is a greater chance that the citizen will be of a lower rank and will therefore receive fewer of the created resources.  A society has **N** ranks according to its size, and a citizen is given a **rank** based on their **skill** using a Power Law distribution.\n",
        "\n",
        "Resource distribution is linear (for now, or it can be based on society) relative to rank (if there are **N** ranks and a citizen is of rank 2, they get **N-2** resources on every allocation).\n",
        "\n",
        "Things To Consider:\n",
        "- how do citizens use their resources?\n",
        "- how to choose society to go to?\n",
        "- how does resources depend on skill-level of society?\n",
        "- citizens decide themselves how they learn (should it be changed via a constant\n",
        "  based on the skill/size of the society? or based on rank? => or treat   increased_skill as a resource)\n",
        "- do societies distribute all resources or save some?\n",
        "- for later, each society has different rate of distribution\n",
        "- citizen has a sense of proximity so that it only evaluates societies it is \"close\" to"
      ]
    },
    {
      "cell_type": "code",
      "metadata": {
        "id": "IqTxBucWUVKc",
        "colab_type": "code",
        "colab": {}
      },
      "source": [
        "from functools import reduce\n",
        "from random import randint"
      ],
      "execution_count": 0,
      "outputs": []
    },
    {
      "cell_type": "code",
      "metadata": {
        "id": "lCopgb3cM9BU",
        "colab_type": "code",
        "colab": {}
      },
      "source": [
        "class Citizen:\n",
        "  def constructor(name):\n",
        "    self.name = name \n",
        "    # social score -> lower = easier to move around, higher = harder to move around\n",
        "    self.base_social = float(randint(10, 20))\n",
        "    self.desperate_social = float(randint(3,7))\n",
        "    self.social = self.base_social\n",
        "    self.look_around_p = 1 / self.social\n",
        "    # skill level -> defines ability to produce resources and rank within a society\n",
        "    self.skill = randint(1, 20)\n",
        "    # minimum resources people generally need (could do Gaussian around 15)\n",
        "    self.min_resources = randint(13, 17)\n",
        "    # the resources owned by a citizen (around 0 - 100 at a time)\n",
        "    self.resources = 0\n",
        "    # society it is in\n",
        "    self.society = None\n",
        "    self.societal_rank = None\n",
        "\n",
        "  def update_resource(amount):\n",
        "    self.resources += amount\n",
        "    if (self.resources < self.min_resources): \n",
        "      self.social = self.desperate_social\n",
        "    else:\n",
        "      self.social = self.base_social\n",
        "    self.look_around_p = 1 / self.social\n",
        "\n",
        "  def look_around(societies):\n",
        "    assert(len(societies) < 100) # or number of citizens\n",
        "\n",
        "    societies = filter((lambda x: x.name == self.society.name), societies)\n",
        "    chosen = max([(s.predict_resources(self), s) for s in societies])\n",
        "\n",
        "    # predict_resources should check if member is in or not (for next round)\n",
        "    if chosen[0] > self.society.predict_resources(self):\n",
        "      if random() < self.look_around_p: \n",
        "        return chosen[1]\n",
        "      \n",
        "    return None\n",
        "    #look at all the possible societies and decide if it wants to move\n",
        "    # how does it decide to move? \n",
        "    # return None if not going to move, otherwise return the target society\n",
        "\n",
        "  def update_skill(added_skill):\n",
        "    # change the citizens' skill levels \n",
        "    #for citizen in self.members:\n",
        "     citizen.skill += added_skill\n",
        "\n",
        "  def use_resource():\n",
        "    self.resources -= 1"
      ],
      "execution_count": 0,
      "outputs": []
    },
    {
      "cell_type": "code",
      "metadata": {
        "id": "TqEj_0zpNICZ",
        "colab_type": "code",
        "colab": {}
      },
      "source": [
        "class Society:\n",
        "  def constructor(name):\n",
        "    self.name = name\n",
        "    self.members = []\n",
        "    # the overall skill of the society\n",
        "    self.skill = 0\n",
        "    self.resources = 0\n",
        "    # for Power distribution in resource allocation\n",
        "    self.d = random() * 15 + 5 # [5,20]  \n",
        "    self.h = random() + 2 # [2,3] \n",
        "    self.distribute = lambda r: 0 # initialized\n",
        "\n",
        "  def distribute_generator(size):\n",
        "    return lambda r: (size / self.d) * pow(r, self.h) \n",
        "\n",
        "  def update_skill(added_skill):\n",
        "    #self.skill = reduce((lambda x, y: x.skill + y.skill), self.members)\n",
        "    self.skill += added_skill\n",
        "\n",
        "  def add_member(citizen):\n",
        "    citizen.society = self\n",
        "    self.members.append(citizen)\n",
        "    self.distribute = distribute_generator(len(self.members))\n",
        "    update_skill(citizen.skill)\n",
        "\n",
        "  def remove_member(citizen):\n",
        "    filter((lambda x: x.name == citizen.name), self.members)\n",
        "    self.distribute = distribute_generator(len(self.members))\n",
        "    update_skill(-citizen.skill)\n",
        "    citizen.society = None\n",
        "\n",
        "  # update ranking of members\n",
        "  def update_ranking():\n",
        "    rel_rank = sorted([(m.skill, m) for m in self.members])[::-1]\n",
        "    for i, (_,m) in enumerate(rel_rank):\n",
        "      m.societal_rank = i\n",
        "    return\n",
        "\n",
        "  def distribute(attribute, update):\n",
        "    # assume members have perfect linear rank order\n",
        "\n",
        "    # apply function to every person to get relative proportion\n",
        "    rel_prop = [(self.distribute(m.societal_rank),m) for m in self.members]\n",
        "    norm = sum([p for (p,m) in rel_prop])\n",
        "    # TODO: give out all the created resources\n",
        "    rec_alloc = [(p/norm * attribute, m) for (p,m) in rel_prop]\n",
        "    for (r,m) in rel_prop:\n",
        "      m.update(r)\n",
        "    return\n",
        "\n",
        "  def create_and_distribute_resources():\n",
        "    # based on # of members and skill\n",
        "    self.resources += len(self.members) * self.skill # TODO: maybe have const\n",
        "    self.distribute(self.resources, update_resource) # HIGHLY FISHY func pass\n",
        "\n",
        "  def create_and_distribute_skill():\n",
        "    added_skill += self.skill / len(self.members) # TODO: maybe have const\n",
        "    self.distribute(added_skill)\n",
        "    update_skill(added_skill, update_skill) # HIGHLY FISHY func pass"
      ],
      "execution_count": 0,
      "outputs": []
    },
    {
      "cell_type": "code",
      "metadata": {
        "id": "lpRBFZ3lVgRc",
        "colab_type": "code",
        "colab": {}
      },
      "source": [
        "class World:\n",
        "  def constructor():\n",
        "    self.societies = []\n",
        "    # the overall wealth of the world \n",
        "    self.wealth = 0\n",
        "\n",
        "  def let_members_move():\n",
        "    # for every member of the societies, let them decide if they want to move or \n",
        "    # stay and then do that action \n",
        "    for society in self.societies:\n",
        "      for citizen in society.members:\n",
        "        move = citizen.look_around(self.societies)\n",
        "        if (move):\n",
        "          society.remove_member(citizen)\n",
        "          move.add_member(citizen)\n",
        "\n",
        "  def run_model():\n",
        "    for society in self.societies:\n",
        "      society.create_and_distribute_skill()\n",
        "      society.update_ranking()\n",
        "      society.create_and_distribute_resources()\n",
        "\n",
        "    self.let_members_move()\n",
        "\n",
        "  def print_world():\n",
        "    for society in self.societies:\n",
        "      print(\"Society: \" + society.name)\n",
        "      for citizen in society.citizens:\n",
        "        print(\"Rank \" + citizen.rank + \": Citizen \" + citizen.name + \", Resources: \" + citizen.resources + \", Skill: \" + citizen.skill)\n",
        "      print(\"/n\")"
      ],
      "execution_count": 0,
      "outputs": []
    },
    {
      "cell_type": "code",
      "metadata": {
        "id": "MEJmw1MhlAYx",
        "colab_type": "code",
        "outputId": "4d6bf136-3812-4735-cd8d-8594d0d60cb4",
        "colab": {
          "base_uri": "https://localhost:8080/",
          "height": 234
        }
      },
      "source": [
        "this_world = World()\n",
        "citizens = []\n",
        "societies = []\n",
        "\n",
        "# N: number of \"threads\"\n",
        "for i in range(0, 100):\n",
        "  citizen = Citizen(i)\n",
        "  society = Society(i)\n",
        "  society.add_member(citizen)\n",
        "  citizens.append(citizen)\n",
        "  societies.append(society)\n",
        "\n",
        "# T: timesteps\n",
        "for i in range(0, 0):\n",
        "  this_world.run_model()\n",
        "\n",
        "this_world.print_world()\n",
        "\n",
        "\n"
      ],
      "execution_count": 0,
      "outputs": [
        {
          "output_type": "error",
          "ename": "TypeError",
          "evalue": "ignored",
          "traceback": [
            "\u001b[0;31m---------------------------------------------------------------------------\u001b[0m",
            "\u001b[0;31mTypeError\u001b[0m                                 Traceback (most recent call last)",
            "\u001b[0;32m<ipython-input-19-8a7e794ba8ff>\u001b[0m in \u001b[0;36m<module>\u001b[0;34m()\u001b[0m\n\u001b[1;32m      5\u001b[0m \u001b[0;31m# N: number of \"threads\"\u001b[0m\u001b[0;34m\u001b[0m\u001b[0;34m\u001b[0m\u001b[0;34m\u001b[0m\u001b[0m\n\u001b[1;32m      6\u001b[0m \u001b[0;32mfor\u001b[0m \u001b[0mi\u001b[0m \u001b[0;32min\u001b[0m \u001b[0mrange\u001b[0m\u001b[0;34m(\u001b[0m\u001b[0;36m0\u001b[0m\u001b[0;34m,\u001b[0m \u001b[0;36m100\u001b[0m\u001b[0;34m)\u001b[0m\u001b[0;34m:\u001b[0m\u001b[0;34m\u001b[0m\u001b[0;34m\u001b[0m\u001b[0m\n\u001b[0;32m----> 7\u001b[0;31m   \u001b[0mcitizen\u001b[0m \u001b[0;34m=\u001b[0m \u001b[0mCitizen\u001b[0m\u001b[0;34m(\u001b[0m\u001b[0mi\u001b[0m\u001b[0;34m)\u001b[0m\u001b[0;34m\u001b[0m\u001b[0;34m\u001b[0m\u001b[0m\n\u001b[0m\u001b[1;32m      8\u001b[0m   \u001b[0msociety\u001b[0m \u001b[0;34m=\u001b[0m \u001b[0mSociety\u001b[0m\u001b[0;34m(\u001b[0m\u001b[0mi\u001b[0m\u001b[0;34m)\u001b[0m\u001b[0;34m\u001b[0m\u001b[0;34m\u001b[0m\u001b[0m\n\u001b[1;32m      9\u001b[0m   \u001b[0msociety\u001b[0m\u001b[0;34m.\u001b[0m\u001b[0madd_member\u001b[0m\u001b[0;34m(\u001b[0m\u001b[0mcitizen\u001b[0m\u001b[0;34m)\u001b[0m\u001b[0;34m\u001b[0m\u001b[0;34m\u001b[0m\u001b[0m\n",
            "\u001b[0;31mTypeError\u001b[0m: object() takes no parameters"
          ]
        }
      ]
    },
    {
      "cell_type": "code",
      "metadata": {
        "id": "r_Nie1JNnHEp",
        "colab_type": "code",
        "colab": {}
      },
      "source": [
        ""
      ],
      "execution_count": 0,
      "outputs": []
    }
  ]
}